{
 "cells": [
  {
   "cell_type": "code",
   "execution_count": null,
   "id": "ad32f522",
   "metadata": {},
   "outputs": [],
   "source": [
    "import geopandas as gpd\n",
    "import pandas as pd\n",
    "from shapely.geometry import Point\n",
    "import numpy as np"
   ]
  },
  {
   "cell_type": "code",
   "execution_count": null,
   "id": "4c615c07",
   "metadata": {},
   "outputs": [
    {
     "name": "stdout",
     "output_type": "stream",
     "text": [
      "<xarray.Dataset> Size: 49GB\n",
      "Dimensions:    (latitude: 834, longitude: 734, time: 744)\n",
      "Coordinates:\n",
      "  * longitude  (longitude) float32 3kB -12.0 -11.97 -11.94 ... 9.93 9.96 9.99\n",
      "  * latitude   (latitude) float32 3kB 36.0 36.03 36.06 ... 60.93 60.96 60.99\n",
      "  * time       (time) datetime64[ns] 6kB 2021-01-01 ... 2021-01-31T23:00:00\n",
      "Data variables: (12/29)\n",
      "    crs        |S64 64B ...\n",
      "    MAPSTA     (latitude, longitude) int16 1MB ...\n",
      "    dpt        (time, latitude, longitude) float32 2GB ...\n",
      "    ucur       (time, latitude, longitude) float32 2GB ...\n",
      "    vcur       (time, latitude, longitude) float32 2GB ...\n",
      "    uwnd       (time, latitude, longitude) float32 2GB ...\n",
      "    ...         ...\n",
      "    pdir0      (time, latitude, longitude) float32 2GB ...\n",
      "    pdir1      (time, latitude, longitude) float32 2GB ...\n",
      "    pdir2      (time, latitude, longitude) float32 2GB ...\n",
      "    pdp0       (time, latitude, longitude) float32 2GB ...\n",
      "    pdp1       (time, latitude, longitude) float32 2GB ...\n",
      "    pdp2       (time, latitude, longitude) float32 2GB ...\n",
      "Attributes: (12/20)\n",
      "    WAVEWATCH_III_version_number:     7.14\n",
      "    WAVEWATCH_III_switches:           NOGRB SCRIP SCRIPNC TRKNC DIST MPI PR3 ...\n",
      "    SIN4_namelist_parameter_BETAMAX:  1.65\n",
      "    product_name:                     TU-MREL_EU_ATL-2M_202101.nc\n",
      "    area:                             EU_ATL coast 2M wave grid\n",
      "    latitude_resolution:              0.\n",
      "    ...                               ...\n",
      "    _NCProperties:                    version=2,netcdf=4.8.1,hdf5=1.10.7\n",
      "    start_date:                       2021-01-01 00:00:00\n",
      "    stop_date:                        2021-01-31 23:00:00\n",
      "    DODS.strlen:                      0\n",
      "    DODS_EXTRA.Unlimited_Dimension:   time\n",
      "    EXTRA_DIMENSION.level:            1\n"
     ]
    }
   ],
   "source": [
    "import xarray as xr\n",
    "\n",
    "# Base URL for the THREDDS OPeNDAP server (note: use \"dodsC\" instead of \"fileServer\")\n",
    "base_url = \"https://opendap.4tu.nl/thredds/dodsC/data2/djht/f359cd0f-d135-416c-9118-e79dccba57b9/1/2021\"\n",
    "\n",
    "# Generate the list of monthly URLs for the year 2021\n",
    "urls = [\n",
    "    f\"{base_url}/TU-MREL_EU_ATL-2M_2021{month:02d}.nc\"\n",
    "    for month in range(1, 13)\n",
    "]\n",
    "\n",
    "# Load and combine all NetCDF files along the time axis\n",
    "ds = xr.open_mfdataset(urls, combine='by_coords')\n",
    "\n",
    "# Preview dataset structure: variables, dimensions, coordinates\n",
    "print(ds)\n"
   ]
  },
  {
   "cell_type": "code",
   "execution_count": null,
   "id": "01828c27",
   "metadata": {},
   "outputs": [],
   "source": [
    "# Load EU NUTS2 data (excluding GB)\n",
    "nuts2_eu_path = 'NUTS_RG_60M_2024_3035.geojson'\n",
    "nuts2_eu_gdf = gpd.read_file(nuts2_eu_path)\n",
    "nuts2_eu_gdf = nuts2_eu_gdf[nuts2_eu_gdf['LEVL_CODE'] == 2]  # Keep only NUTS2 regions\n",
    "\n",
    "# Load GB-specific NUTS2 data\n",
    "nuts2_gb_path = 'NUTS_RG_60M_2021_3035.geojson'\n",
    "nuts2_gb_gdf = gpd.read_file(nuts2_gb_path)\n",
    "nuts2_gb_gdf = nuts2_gb_gdf[nuts2_gb_gdf['LEVL_CODE'] == 2]  # Keep only NUTS2 regions \n",
    "nuts2_gb_gdf = nuts2_gb_gdf[nuts2_gb_gdf['CNTR_CODE'] == 'UK']\n",
    "\n",
    "# Merge EU and GB NUTS2 regions\n",
    "nuts2_gdf = pd.concat([nuts2_eu_gdf, nuts2_gb_gdf], ignore_index=True)\n",
    "nuts2_gdf = nuts2_gdf.drop_duplicates(subset=['NUTS_ID'])\n",
    "nuts2_gdf"
   ]
  },
  {
   "cell_type": "code",
   "execution_count": null,
   "id": "1a4c27a9",
   "metadata": {},
   "outputs": [],
   "source": []
  }
 ],
 "metadata": {
  "kernelspec": {
   "display_name": "forecastenv",
   "language": "python",
   "name": "python3"
  },
  "language_info": {
   "codemirror_mode": {
    "name": "ipython",
    "version": 3
   },
   "file_extension": ".py",
   "mimetype": "text/x-python",
   "name": "python",
   "nbconvert_exporter": "python",
   "pygments_lexer": "ipython3",
   "version": "3.11.13"
  }
 },
 "nbformat": 4,
 "nbformat_minor": 5
}
