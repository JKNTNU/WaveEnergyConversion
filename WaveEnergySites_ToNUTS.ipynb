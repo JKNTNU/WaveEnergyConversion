{
 "cells": [
  {
   "cell_type": "code",
   "execution_count": 107,
   "id": "8737c779",
   "metadata": {},
   "outputs": [],
   "source": [
    "import geopandas as gpd\n",
    "import pandas as pd\n",
    "from shapely import wkt\n",
    "from shapely.geometry import Point\n",
    "from sklearn.neighbors import BallTree\n",
    "import numpy as np"
   ]
  },
  {
   "cell_type": "code",
   "execution_count": null,
   "id": "bc483908",
   "metadata": {},
   "outputs": [],
   "source": [
    "df = pd.read_excel('WaveEnergy_sites.xlsx', sheet_name='Final_Data')\n",
    "\"Data based on https://www.ocean-energy-systems.org/ocean-energy/gis-map-tool/\""
   ]
  },
  {
   "cell_type": "code",
   "execution_count": 109,
   "id": "e08da09c",
   "metadata": {},
   "outputs": [],
   "source": [
    "# Load EU NUTS2 data (excluding GB)\n",
    "nuts2_eu_path = 'NUTS_RG_60M_2024_3035.geojson'\n",
    "nuts2_eu_gdf = gpd.read_file(nuts2_eu_path)\n",
    "nuts2_eu_gdf = nuts2_eu_gdf[nuts2_eu_gdf['LEVL_CODE'] == 2]  # Keep only NUTS2 regions\n",
    "\n",
    "# Load GB-specific NUTS2 data\n",
    "nuts2_gb_path = 'NUTS_RG_60M_2021_3035.geojson'\n",
    "nuts2_gb_gdf = gpd.read_file(nuts2_gb_path)\n",
    "nuts2_gb_gdf = nuts2_gb_gdf[nuts2_gb_gdf['LEVL_CODE'] == 2]  # Keep only NUTS2 regions \n",
    "nuts2_gb_gdf = nuts2_gb_gdf[nuts2_gb_gdf['CNTR_CODE'] == 'UK']\n",
    "\n",
    "# Merge EU and GB NUTS2 regions\n",
    "nuts2_gdf = pd.concat([nuts2_eu_gdf, nuts2_gb_gdf], ignore_index=True)\n",
    "nuts2_gdf = nuts2_gdf.drop_duplicates(subset=['NUTS_ID'])\n",
    "nuts2_gdf\n",
    "\n",
    "nuts2_gdf = nuts2_gdf.to_crs(\"EPSG:4326\")  # Required for spatial join"
   ]
  },
  {
   "cell_type": "code",
   "execution_count": 110,
   "id": "a1f72d90",
   "metadata": {},
   "outputs": [],
   "source": [
    "df['geometry'] = df['geometry'].apply(wkt.loads)\n",
    "gdf_points = gpd.GeoDataFrame(df, geometry='geometry', crs='EPSG:4326')"
   ]
  },
  {
   "cell_type": "code",
   "execution_count": 111,
   "id": "26ec7a34",
   "metadata": {},
   "outputs": [],
   "source": [
    "def find_nearest_nuts2(point, country_code, nuts2_gdf):\n",
    "    # Filter NUTS2 regions for the same country\n",
    "    candidates = nuts2_gdf[nuts2_gdf['CNTR_CODE'] == country_code].copy()\n",
    "    if candidates.empty:\n",
    "        return None\n",
    "\n",
    "    # Compute centroids for distance calculation\n",
    "# Reproject temporarily to a projected CRS (e.g. EPSG:3035 for Europe)\n",
    "    candidates_projected = candidates.to_crs(epsg=3035)\n",
    "    candidates['centroid'] = candidates_projected.geometry.centroid.to_crs(epsg=4326)\n",
    "\n",
    "    coords_candidates = np.array(list(candidates['centroid'].apply(lambda x: (x.y, x.x))))  # lat, lon\n",
    "\n",
    "    # Use BallTree with haversine distance\n",
    "    tree = BallTree(np.radians(coords_candidates), metric='haversine')\n",
    "    point_coords = np.radians([[point.y, point.x]])\n",
    "    dist, idx = tree.query(point_coords, k=1)\n",
    "    nearest_index = idx[0][0]\n",
    "\n",
    "    return candidates.iloc[nearest_index]['NUTS_ID']"
   ]
  },
  {
   "cell_type": "code",
   "execution_count": 112,
   "id": "1d36fa42",
   "metadata": {},
   "outputs": [],
   "source": [
    "\n",
    "country_map = {\n",
    "    \"United Kingdom\": \"UK\",\n",
    "    \"Germany\": \"DE\",\n",
    "    \"France\": \"FR\",\n",
    "    \"Spain\": \"ES\",\n",
    "    \"Italy\": \"IT\",\n",
    "    \"Netherlands\": \"NL\",\n",
    "    \"Belgium\": \"BE\",\n",
    "}\n",
    "gdf_points['country'] = gdf_points['country'].map(country_map)\n"
   ]
  },
  {
   "cell_type": "code",
   "execution_count": 113,
   "id": "41344ad7",
   "metadata": {},
   "outputs": [],
   "source": [
    "# Assign nearest NUTS2 ID to each point\n",
    "gdf_points['NUTS2_ID'] = gdf_points.apply(\n",
    "    lambda row: find_nearest_nuts2(row.geometry, row['country'], nuts2_gdf),\n",
    "    axis=1\n",
    ")"
   ]
  },
  {
   "cell_type": "code",
   "execution_count": 114,
   "id": "da49d72e",
   "metadata": {},
   "outputs": [
    {
     "name": "stdout",
     "output_type": "stream",
     "text": [
      "  NUTS2_ID  total_capacity_mw\n",
      "0     ES21              0.300\n",
      "1     FRH0            240.000\n",
      "2     ITH5              0.050\n",
      "3     ITI1              0.050\n",
      "4     NL12              0.050\n",
      "5     UKM5              6.300\n",
      "6     UKM6              0.022\n"
     ]
    }
   ],
   "source": [
    "# Group by NUTS2 region and sum the capacities\n",
    "agg_capacity = gdf_points.groupby('NUTS2_ID', as_index=False)['capacity_mw'].sum()\n",
    "agg_capacity.rename(columns={'capacity_mw': 'total_capacity_mw'}, inplace=True)\n",
    "\n",
    "# Only keep NUTS2 regions with capacity > 0\n",
    "agg_capacity = agg_capacity[agg_capacity['total_capacity_mw'] > 0]\n",
    "\n",
    "# Final result: only NUTS2_ID and total_capacity_mw\n",
    "print(agg_capacity)"
   ]
  },
  {
   "cell_type": "code",
   "execution_count": 115,
   "id": "f06d36e1",
   "metadata": {},
   "outputs": [],
   "source": [
    "agg_capacity.to_csv(\"aggregated_oceanenergy_capacity_by_nuts2.csv\", index=False, sep=';', decimal=',')\n"
   ]
  }
 ],
 "metadata": {
  "kernelspec": {
   "display_name": "forecastenv",
   "language": "python",
   "name": "python3"
  },
  "language_info": {
   "codemirror_mode": {
    "name": "ipython",
    "version": 3
   },
   "file_extension": ".py",
   "mimetype": "text/x-python",
   "name": "python",
   "nbconvert_exporter": "python",
   "pygments_lexer": "ipython3",
   "version": "3.11.13"
  }
 },
 "nbformat": 4,
 "nbformat_minor": 5
}
